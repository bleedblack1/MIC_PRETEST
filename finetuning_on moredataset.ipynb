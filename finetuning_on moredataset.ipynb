{
 "cells": [
  {
   "cell_type": "code",
   "execution_count": 1,
   "id": "b6c8daba-3b5b-49c6-8ae3-38d893d58dff",
   "metadata": {},
   "outputs": [
    {
     "name": "stdout",
     "output_type": "stream",
     "text": [
      "{'tokens': ['I', 'had', 'been', 'made', ',', 'without', 'consultation', ',', 'into', 'a', 'symbol', 'and', 'figurehead', 'for', 'all', 'kinds', 'of', 'ideas', '.'], 'labels': ['O', 'O', 'O', 'O', 'O', 'O', 'O', 'O', 'O', 'O', 'O', 'O', 'O', 'O', 'O', 'O', 'O', 'O', 'O']}\n"
     ]
    }
   ],
   "source": [
    "import json\n",
    "from datasets import Dataset\n",
    "\n",
    "def load_bio_json(json_file):\n",
    "    \"\"\"\n",
    "    Loads a BIO-tagged JSON file and converts it into a format suitable for Hugging Face fine-tuning.\n",
    "    \"\"\"\n",
    "    with open(json_file, \"r\", encoding=\"utf-8\") as file:\n",
    "        data = json.load(file)\n",
    "\n",
    "    sentences = []\n",
    "    token_lists = []\n",
    "    label_lists = []\n",
    "\n",
    "    for entry in data:\n",
    "        sentences.append(entry[\"sentence\"])\n",
    "        token_lists.append([token[\"token\"] for token in entry[\"tokens\"]])\n",
    "        label_lists.append([token[\"label\"] for token in entry[\"tokens\"]])\n",
    "\n",
    "    dataset = Dataset.from_dict({\"tokens\": token_lists, \"labels\": label_lists})\n",
    "    return dataset\n",
    "\n",
    "# Load the dataset\n",
    "train_dataset = load_bio_json(\"train_more_1.json\")\n",
    "train_dataset = train_dataset.train_test_split(test_size=0.1)  \n",
    "\n",
    "\n",
    "print(train_dataset[\"train\"][30])"
   ]
  },
  {
   "cell_type": "code",
   "execution_count": 2,
   "id": "4115cf87-d028-46f1-88c5-608ccb48e355",
   "metadata": {},
   "outputs": [
    {
     "name": "stdout",
     "output_type": "stream",
     "text": [
      "{0: 'O', 1: 'B-COUNTRY', 2: 'I-COUNTRY', 3: 'B-DATE', 4: 'I-DATE', 5: 'B-FATALITY', 6: 'I-FATALITY'}\n"
     ]
    }
   ],
   "source": [
    "# Define label mappings explicitly\n",
    "label_list =[\"O\", \"B-COUNTRY\", \"I-COUNTRY\", \"B-DATE\", \"I-DATE\", \"B-FATALITY\", \"I-FATALITY\"]\n",
    "label2id = {label: i for i, label in enumerate(label_list)}\n",
    "id2label = {i: label for label, i in label2id.items()}\n",
    "\n",
    "print(id2label)"
   ]
  },
  {
   "cell_type": "code",
   "execution_count": 3,
   "id": "7137190d-7b9a-4eb1-bbaa-64d604fc5651",
   "metadata": {},
   "outputs": [
    {
     "data": {
      "application/vnd.jupyter.widget-view+json": {
       "model_id": "170897efb3fb4ccc8a9e21bf03160d99",
       "version_major": 2,
       "version_minor": 0
      },
      "text/plain": [
       "Map:   0%|          | 0/33421 [00:00<?, ? examples/s]"
      ]
     },
     "metadata": {},
     "output_type": "display_data"
    },
    {
     "data": {
      "application/vnd.jupyter.widget-view+json": {
       "model_id": "d30e3e1c25c14f9688aef102cfb6b373",
       "version_major": 2,
       "version_minor": 0
      },
      "text/plain": [
       "Map:   0%|          | 0/3714 [00:00<?, ? examples/s]"
      ]
     },
     "metadata": {},
     "output_type": "display_data"
    }
   ],
   "source": [
    "def convert_labels(example):\n",
    "    return {\n",
    "        \"tokens\": example[\"tokens\"],\n",
    "        \"labels\": [label2id[label] for label in example[\"labels\"]]  \n",
    "    }\n",
    "\n",
    "train_dataset = train_dataset.map(convert_labels)"
   ]
  },
  {
   "cell_type": "code",
   "execution_count": 4,
   "id": "52fd7a75-20b6-4fe2-9ffc-a7da4474748a",
   "metadata": {},
   "outputs": [
    {
     "name": "stdout",
     "output_type": "stream",
     "text": [
      "{'tokens': ['I', 'had', 'been', 'made', ',', 'without', 'consultation', ',', 'into', 'a', 'symbol', 'and', 'figurehead', 'for', 'all', 'kinds', 'of', 'ideas', '.'], 'labels': [0, 0, 0, 0, 0, 0, 0, 0, 0, 0, 0, 0, 0, 0, 0, 0, 0, 0, 0]}\n"
     ]
    }
   ],
   "source": [
    "print(train_dataset[\"train\"][30])"
   ]
  },
  {
   "cell_type": "code",
   "execution_count": 5,
   "id": "eb226531-4ace-4516-85d2-698316ba78e8",
   "metadata": {},
   "outputs": [],
   "source": [
    "from transformers import RobertaTokenizerFast, RobertaForTokenClassification\n",
    "\n",
    "MODEL_PATH = \"roberta_finetuned_MIC_3\"  \n",
    "\n",
    "# Load tokenizer and model\n",
    "tokenizer = RobertaTokenizerFast.from_pretrained(MODEL_PATH)\n",
    "model = RobertaForTokenClassification.from_pretrained(MODEL_PATH, num_labels=7)  "
   ]
  },
  {
   "cell_type": "code",
   "execution_count": 6,
   "id": "391b9c3f-12f4-4743-8aff-920d48bea39a",
   "metadata": {},
   "outputs": [
    {
     "data": {
      "application/vnd.jupyter.widget-view+json": {
       "model_id": "e8fb3e9a271849c2a7eb992f71e34b9f",
       "version_major": 2,
       "version_minor": 0
      },
      "text/plain": [
       "Map:   0%|          | 0/33421 [00:00<?, ? examples/s]"
      ]
     },
     "metadata": {},
     "output_type": "display_data"
    },
    {
     "data": {
      "application/vnd.jupyter.widget-view+json": {
       "model_id": "99980451842d4bc9aa0da5b7fe371a29",
       "version_major": 2,
       "version_minor": 0
      },
      "text/plain": [
       "Map:   0%|          | 0/3714 [00:00<?, ? examples/s]"
      ]
     },
     "metadata": {},
     "output_type": "display_data"
    }
   ],
   "source": [
    "from transformers import DataCollatorForTokenClassification\n",
    "\n",
    "def tokenize_and_align_labels(examples):\n",
    "    \"\"\"\n",
    "    Tokenizes input text and aligns BIO labels accordingly.\n",
    "    \"\"\"\n",
    "    tokenized_inputs = tokenizer(\n",
    "        examples[\"tokens\"], \n",
    "        is_split_into_words=True, \n",
    "        padding=\"max_length\", \n",
    "        truncation=True, \n",
    "        max_length=128\n",
    "    )\n",
    "\n",
    "    labels = []\n",
    "    for i, label in enumerate(examples[\"labels\"]):  \n",
    "        word_ids = tokenized_inputs.word_ids(batch_index=i)  \n",
    "        label_ids = []\n",
    "        previous_word_idx = None\n",
    "\n",
    "        for word_idx in word_ids:\n",
    "            if word_idx is None:\n",
    "                label_ids.append(-100)  \n",
    "            elif word_idx != previous_word_idx:\n",
    "                label_ids.append(label[word_idx])  \n",
    "            else:\n",
    "                label_ids.append(label[word_idx] if label[word_idx] in [2, 4, 6] else -100)  \n",
    "                \n",
    "            previous_word_idx = word_idx\n",
    "\n",
    "        labels.append(label_ids)\n",
    "\n",
    "    tokenized_inputs[\"labels\"] = labels\n",
    "    return tokenized_inputs  \n",
    "\n",
    "# Tokenize dataset\n",
    "train_tokenized = train_dataset.map(tokenize_and_align_labels, batched=True)\n",
    "data_collator = DataCollatorForTokenClassification(tokenizer)"
   ]
  },
  {
   "cell_type": "code",
   "execution_count": 7,
   "id": "e9de344c-8345-4410-baa3-e3360546aa83",
   "metadata": {},
   "outputs": [
    {
     "name": "stderr",
     "output_type": "stream",
     "text": [
      "C:\\Users\\ASUS\\OneDrive\\Documents\\mic_pretest\\newenv\\Lib\\site-packages\\transformers\\training_args.py:1594: FutureWarning: `evaluation_strategy` is deprecated and will be removed in version 4.46 of 🤗 Transformers. Use `eval_strategy` instead\n",
      "  warnings.warn(\n",
      "C:\\Users\\ASUS\\AppData\\Local\\Temp\\ipykernel_4380\\3007410142.py:16: FutureWarning: `tokenizer` is deprecated and will be removed in version 5.0.0 for `Trainer.__init__`. Use `processing_class` instead.\n",
      "  trainer = Trainer(\n"
     ]
    }
   ],
   "source": [
    "from transformers import TrainingArguments, Trainer\n",
    "\n",
    "training_args = TrainingArguments(\n",
    "    output_dir=\"./roberta_finetuned_MIC\",\n",
    "    evaluation_strategy=\"epoch\",\n",
    "    save_strategy=\"epoch\",\n",
    "    learning_rate=2e-5,\n",
    "    per_device_train_batch_size=8,\n",
    "    per_device_eval_batch_size=8,\n",
    "    num_train_epochs=5,\n",
    "    weight_decay=0.01,\n",
    "    save_total_limit=2,\n",
    "    logging_dir=\"./logs\"\n",
    ")\n",
    "\n",
    "trainer = Trainer(\n",
    "    model=model,\n",
    "    args=training_args,\n",
    "    train_dataset=train_tokenized[\"train\"],\n",
    "    eval_dataset=train_tokenized[\"test\"],\n",
    "    tokenizer=tokenizer,\n",
    "    data_collator=data_collator\n",
    ")"
   ]
  },
  {
   "cell_type": "code",
   "execution_count": 8,
   "id": "de303048-2929-465f-b336-64d35ef8dd95",
   "metadata": {},
   "outputs": [
    {
     "data": {
      "text/html": [
       "\n",
       "    <div>\n",
       "      \n",
       "      <progress value='20890' max='20890' style='width:300px; height:20px; vertical-align: middle;'></progress>\n",
       "      [20890/20890 2:12:17, Epoch 5/5]\n",
       "    </div>\n",
       "    <table border=\"1\" class=\"dataframe\">\n",
       "  <thead>\n",
       " <tr style=\"text-align: left;\">\n",
       "      <th>Epoch</th>\n",
       "      <th>Training Loss</th>\n",
       "      <th>Validation Loss</th>\n",
       "    </tr>\n",
       "  </thead>\n",
       "  <tbody>\n",
       "    <tr>\n",
       "      <td>1</td>\n",
       "      <td>0.021500</td>\n",
       "      <td>0.019229</td>\n",
       "    </tr>\n",
       "    <tr>\n",
       "      <td>2</td>\n",
       "      <td>0.011600</td>\n",
       "      <td>0.020002</td>\n",
       "    </tr>\n",
       "    <tr>\n",
       "      <td>3</td>\n",
       "      <td>0.008900</td>\n",
       "      <td>0.022669</td>\n",
       "    </tr>\n",
       "    <tr>\n",
       "      <td>4</td>\n",
       "      <td>0.003600</td>\n",
       "      <td>0.023861</td>\n",
       "    </tr>\n",
       "    <tr>\n",
       "      <td>5</td>\n",
       "      <td>0.002600</td>\n",
       "      <td>0.025486</td>\n",
       "    </tr>\n",
       "  </tbody>\n",
       "</table><p>"
      ],
      "text/plain": [
       "<IPython.core.display.HTML object>"
      ]
     },
     "metadata": {},
     "output_type": "display_data"
    },
    {
     "data": {
      "text/plain": [
       "TrainOutput(global_step=20890, training_loss=0.011581634915919325, metrics={'train_runtime': 7937.9645, 'train_samples_per_second': 21.051, 'train_steps_per_second': 2.632, 'total_flos': 1.091649208797312e+16, 'train_loss': 0.011581634915919325, 'epoch': 5.0})"
      ]
     },
     "execution_count": 8,
     "metadata": {},
     "output_type": "execute_result"
    }
   ],
   "source": [
    "trainer.train()"
   ]
  },
  {
   "cell_type": "code",
   "execution_count": 9,
   "id": "d128bfe0-9dfb-4470-8a59-56050a928bab",
   "metadata": {},
   "outputs": [
    {
     "data": {
      "text/plain": [
       "('./roberta_finetuned_MIC_\\\\tokenizer_config.json',\n",
       " './roberta_finetuned_MIC_\\\\special_tokens_map.json',\n",
       " './roberta_finetuned_MIC_\\\\vocab.json',\n",
       " './roberta_finetuned_MIC_\\\\merges.txt',\n",
       " './roberta_finetuned_MIC_\\\\added_tokens.json',\n",
       " './roberta_finetuned_MIC_\\\\tokenizer.json')"
      ]
     },
     "execution_count": 9,
     "metadata": {},
     "output_type": "execute_result"
    }
   ],
   "source": [
    "model.save_pretrained(\"./roberta_finetuned_MIC_\")\n",
    "tokenizer.save_pretrained(\"./roberta_finetuned_MIC_\") "
   ]
  },
  {
   "cell_type": "code",
   "execution_count": null,
   "id": "22207c82-e8b9-40ee-8989-859fea32f0f0",
   "metadata": {},
   "outputs": [],
   "source": []
  }
 ],
 "metadata": {
  "kernelspec": {
   "display_name": "Python (newenv)",
   "language": "python",
   "name": "newenv"
  },
  "language_info": {
   "codemirror_mode": {
    "name": "ipython",
    "version": 3
   },
   "file_extension": ".py",
   "mimetype": "text/x-python",
   "name": "python",
   "nbconvert_exporter": "python",
   "pygments_lexer": "ipython3",
   "version": "3.12.9"
  }
 },
 "nbformat": 4,
 "nbformat_minor": 5
}
