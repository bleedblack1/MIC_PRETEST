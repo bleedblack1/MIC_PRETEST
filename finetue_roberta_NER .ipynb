{
 "cells": [
  {
   "cell_type": "code",
   "execution_count": 132,
   "id": "66a769ae-0dbb-4332-aade-edaa2837cacc",
   "metadata": {},
   "outputs": [],
   "source": [
    "from datasets import load_dataset\n",
    "\n",
    "data_files = {\n",
    "    \"train\":\"train.json\",\n",
    "    \"test\":\"test.json\",\n",
    "    \"valid\":\"valid.json\"\n",
    "}\n",
    "dataset = load_dataset(\"json\", data_files=data_files)"
   ]
  },
  {
   "cell_type": "code",
   "execution_count": 133,
   "id": "0a495902-1c16-4e9f-b366-5f14f5ae3f44",
   "metadata": {},
   "outputs": [
    {
     "name": "stdout",
     "output_type": "stream",
     "text": [
      "{0: 'O', 1: 'B-DATE', 2: 'I-DATE', 3: 'B-FATALITY', 4: 'I-FATALITY', 5: 'B-COUNTRY', 6: 'I-COUNTRY'}\n"
     ]
    }
   ],
   "source": [
    "from transformers import AutoTokenizer\n",
    "# Define label mappings explicitly\n",
    "label_list = [\"O\", \"B-DATE\", \"I-DATE\", \"B-FATALITY\", \"I-FATALITY\", \"B-COUNTRY\", \"I-COUNTRY\"]\n",
    "label2id = {label: i for i, label in enumerate(label_list)}\n",
    "id2label = {i: label for label, i in label2id.items()}\n",
    "\n",
    "print(id2label)"
   ]
  },
  {
   "cell_type": "code",
   "execution_count": 134,
   "id": "4c8d90e2-e08f-41b2-91b7-5a39b6a59f84",
   "metadata": {},
   "outputs": [
    {
     "name": "stdout",
     "output_type": "stream",
     "text": [
      "{'sentence': 'The scientists found that the death of a child was associated with a 21 percent increased risk of ischemic heart disease, or reduced blood flow to the heart.', 'tokens': [{'label': 'O', 'token': 'The'}, {'label': 'O', 'token': 'scientists'}, {'label': 'O', 'token': 'found'}, {'label': 'O', 'token': 'that'}, {'label': 'O', 'token': 'the'}, {'label': 'O', 'token': 'death'}, {'label': 'O', 'token': 'of'}, {'label': 'O', 'token': 'a'}, {'label': 'O', 'token': 'child'}, {'label': 'O', 'token': 'was'}, {'label': 'O', 'token': 'associated'}, {'label': 'O', 'token': 'with'}, {'label': 'O', 'token': 'a'}, {'label': 'O', 'token': '21'}, {'label': 'O', 'token': 'percent'}, {'label': 'O', 'token': 'increased'}, {'label': 'O', 'token': 'risk'}, {'label': 'O', 'token': 'of'}, {'label': 'O', 'token': 'ischemic'}, {'label': 'O', 'token': 'heart'}, {'label': 'O', 'token': 'disease'}, {'label': 'O', 'token': ','}, {'label': 'O', 'token': 'or'}, {'label': 'O', 'token': 'reduced'}, {'label': 'O', 'token': 'blood'}, {'label': 'O', 'token': 'flow'}, {'label': 'O', 'token': 'to'}, {'label': 'O', 'token': 'the'}, {'label': 'O', 'token': 'heart'}, {'label': 'O', 'token': '.'}]}\n"
     ]
    }
   ],
   "source": [
    "print(dataset[\"train\"][11])"
   ]
  },
  {
   "cell_type": "code",
   "execution_count": 135,
   "id": "f0cc0581-d80f-48cd-8ffc-9f47272698da",
   "metadata": {},
   "outputs": [],
   "source": [
    "# Define label mapping\n",
    "label_map = {\"O\": 0, \"B-COUNTRY\":1, \"I-COUNTRY\":2, \"B-DATE\":3, \"I-DATE\":4, \"B-FATALITY\":5, \"I-FATALITY\":6}  # Update with actual labels\n",
    "\n",
    "def convert_dataset_format(example):\n",
    "    return {\n",
    "        \"tokens\": [token[\"token\"] for token in example[\"tokens\"]],  # Extracting tokens\n",
    "        \"labels\": [label_map[token[\"label\"]] for token in example[\"tokens\"]]  # Mapping labels\n",
    "    }\n",
    "\n",
    "# Apply the conversion\n",
    "dataset = dataset.map(convert_dataset_format)"
   ]
  },
  {
   "cell_type": "code",
   "execution_count": 138,
   "id": "c9888792-a6fb-4af1-8641-960ae485dd09",
   "metadata": {},
   "outputs": [
    {
     "name": "stdout",
     "output_type": "stream",
     "text": [
      "{'sentence': 'The study looked not only at the loss of infants and children, but also adolescents and adult children up to age 29.', 'tokens': ['The', 'study', 'looked', 'not', 'only', 'at', 'the', 'loss', 'of', 'infants', 'and', 'children', ',', 'but', 'also', 'adolescents', 'and', 'adult', 'children', 'up', 'to', 'age', '29', '.'], 'labels': [0, 0, 0, 0, 0, 0, 0, 0, 0, 0, 0, 0, 0, 0, 0, 0, 0, 0, 0, 0, 0, 3, 4, 0]}\n"
     ]
    }
   ],
   "source": [
    "print(dataset['train'][10])"
   ]
  },
  {
   "cell_type": "code",
   "execution_count": 139,
   "id": "18c17fac-b225-4dfd-bc61-a468c3e044e7",
   "metadata": {},
   "outputs": [],
   "source": [
    "tokenizer = AutoTokenizer.from_pretrained(\"roberta-base\", add_prefix_space=True)"
   ]
  },
  {
   "cell_type": "code",
   "execution_count": 140,
   "id": "c67ed063-0fb7-4cc1-ada4-1085faabee5a",
   "metadata": {},
   "outputs": [],
   "source": [
    "from transformers import AutoTokenizer\n",
    "\n",
    "def tokenize_and_align_labels(examples, tokenizer):\n",
    "    \"\"\"\n",
    "    Tokenize input text while properly aligning NER labels.\n",
    "    \"\"\"\n",
    "    tokenized_inputs = tokenizer(\n",
    "        examples[\"tokens\"],\n",
    "        truncation=True,\n",
    "        padding=\"max_length\",  # Ensure uniform sequence length\n",
    "        max_length=128,  # Adjust as needed\n",
    "        is_split_into_words=True,\n",
    "        return_tensors=\"pt\",  # Ensure PyTorch format\n",
    "        return_attention_mask=True,  # Generate attention masks\n",
    "    )\n",
    "\n",
    "    labels = []\n",
    "    for i, label in enumerate(examples[\"labels\"]):\n",
    "        word_ids = tokenized_inputs.word_ids(batch_index=0)  # Get word index mapping\n",
    "        previous_word_idx = None\n",
    "        aligned_labels = []\n",
    "\n",
    "        for word_id in word_ids:\n",
    "            if word_id is None:\n",
    "                aligned_labels.append(-100)  # Ignore special tokens\n",
    "            elif word_id != previous_word_idx:\n",
    "                if word_id < len(label):  # Prevent IndexError\n",
    "                    aligned_labels.append(label[word_id])  # Assign label for first subword\n",
    "                else:\n",
    "                    aligned_labels.append(-100)  # Ignore out-of-range errors\n",
    "            else:\n",
    "                aligned_labels.append(-100)  # Mask subword tokens\n",
    "\n",
    "            previous_word_idx = word_id\n",
    "\n",
    "        labels.append(aligned_labels)\n",
    "\n",
    "    tokenized_inputs[\"labels\"] = labels\n",
    "    return tokenized_inputs"
   ]
  },
  {
   "cell_type": "code",
   "execution_count": 124,
   "id": "75e4ca19-c488-4cbe-b6c5-50c93155e1d3",
   "metadata": {},
   "outputs": [
    {
     "data": {
      "application/vnd.jupyter.widget-view+json": {
       "model_id": "36d4cf97ab014e3e956eb23d969d4b25",
       "version_major": 2,
       "version_minor": 0
      },
      "text/plain": [
       "Map:   0%|          | 0/1801 [00:00<?, ? examples/s]"
      ]
     },
     "metadata": {},
     "output_type": "display_data"
    },
    {
     "data": {
      "application/vnd.jupyter.widget-view+json": {
       "model_id": "1044a8ecdab14fb7a8e7f774c4377e17",
       "version_major": 2,
       "version_minor": 0
      },
      "text/plain": [
       "Map:   0%|          | 0/3483 [00:00<?, ? examples/s]"
      ]
     },
     "metadata": {},
     "output_type": "display_data"
    },
    {
     "data": {
      "application/vnd.jupyter.widget-view+json": {
       "model_id": "45cd01398a1f4c36924d719912b01c97",
       "version_major": 2,
       "version_minor": 0
      },
      "text/plain": [
       "Map:   0%|          | 0/1763 [00:00<?, ? examples/s]"
      ]
     },
     "metadata": {},
     "output_type": "display_data"
    }
   ],
   "source": [
    "tokenized_dataset = dataset.map(lambda x: tokenize_and_align_labels(x, tokenizer), batched=True)\n",
    "\n",
    "# Load into DataLoader\n",
    "from torch.utils.data import DataLoader\n",
    "from transformers import DataCollatorForTokenClassification\n",
    "\n",
    "data_collator = DataCollatorForTokenClassification(tokenizer)\n",
    "train_dataloader = DataLoader(train_dataset, batch_size=16, shuffle=True, collate_fn=data_collator)"
   ]
  },
  {
   "cell_type": "code",
   "execution_count": 105,
   "id": "2b507473-e4a0-4a4a-9331-5b9245ae3878",
   "metadata": {},
   "outputs": [],
   "source": [
    "from transformers import AutoTokenizer\n",
    "\n",
    "def tokenize_and_align_labels(examples, tokenizer):\n",
    "    \"\"\"\n",
    "    Tokenize input text while properly aligning NER labels.\n",
    "    \"\"\"\n",
    "    tokenized_inputs = tokenizer(\n",
    "        examples[\"tokens\"],\n",
    "        truncation=True,\n",
    "        padding=\"max_length\",  # Ensure uniform sequence length\n",
    "        max_length=128,  # Adjust as needed\n",
    "        is_split_into_words=True\n",
    "    )\n",
    "\n",
    "    labels = []\n",
    "    for i, label in enumerate(examples[\"labels\"]):\n",
    "        word_ids = tokenized_inputs.word_ids(batch_index=i)  # Map tokens to word indices\n",
    "        previous_word_idx = None\n",
    "        aligned_labels = []\n",
    "\n",
    "        for word_id in word_ids:\n",
    "            if word_id is None:\n",
    "                aligned_labels.append(-100)  # Ignore special tokens\n",
    "            elif word_id != previous_word_idx:\n",
    "                aligned_labels.append(label[word_id])  # Assign label for the first subword\n",
    "            else:\n",
    "                aligned_labels.append(label[word_id])  # Keep label for subword tokens\n",
    "\n",
    "            previous_word_idx = word_id\n",
    "\n",
    "        labels.append(aligned_labels)\n",
    "\n",
    "    tokenized_inputs[\"labels\"] = labels\n",
    "    return tokenized_inputs"
   ]
  },
  {
   "cell_type": "code",
   "execution_count": 106,
   "id": "62969ddf-527b-4009-a889-c2f05f081218",
   "metadata": {},
   "outputs": [
    {
     "data": {
      "application/vnd.jupyter.widget-view+json": {
       "model_id": "dd6ae6e664324e2b84e33c3ddc52e4be",
       "version_major": 2,
       "version_minor": 0
      },
      "text/plain": [
       "Map:   0%|          | 0/1801 [00:00<?, ? examples/s]"
      ]
     },
     "metadata": {},
     "output_type": "display_data"
    },
    {
     "data": {
      "application/vnd.jupyter.widget-view+json": {
       "model_id": "98b60e879fa44c58a47bf581664649ea",
       "version_major": 2,
       "version_minor": 0
      },
      "text/plain": [
       "Map:   0%|          | 0/3483 [00:00<?, ? examples/s]"
      ]
     },
     "metadata": {},
     "output_type": "display_data"
    },
    {
     "data": {
      "application/vnd.jupyter.widget-view+json": {
       "model_id": "e5e5e62fd49b4f98a1e5873e317c4f7d",
       "version_major": 2,
       "version_minor": 0
      },
      "text/plain": [
       "Map:   0%|          | 0/1763 [00:00<?, ? examples/s]"
      ]
     },
     "metadata": {},
     "output_type": "display_data"
    }
   ],
   "source": [
    "tokenized_dataset = dataset.map(\n",
    "    lambda x: tokenize_and_align_labels(x, tokenizer),  # Pass tokenizer explicitly\n",
    "    batched=True\n",
    ")"
   ]
  },
  {
   "cell_type": "code",
   "execution_count": 125,
   "id": "65c6bce3-bb63-4118-9817-9fbe8e44b3cc",
   "metadata": {},
   "outputs": [
    {
     "name": "stderr",
     "output_type": "stream",
     "text": [
      "Some weights of RobertaForTokenClassification were not initialized from the model checkpoint at roberta-base and are newly initialized: ['classifier.bias', 'classifier.weight']\n",
      "You should probably TRAIN this model on a down-stream task to be able to use it for predictions and inference.\n"
     ]
    }
   ],
   "source": [
    "from transformers import AutoModelForTokenClassification\n",
    "\n",
    "model = AutoModelForTokenClassification.from_pretrained(\n",
    "    \"roberta-base\",\n",
    "    num_labels=len(label_list),  # Ensure label_list is defined\n",
    "    label2id=label2id,  # Maps labels to IDs\n",
    "    id2label={v: k for k, v in label2id.items()}  # Maps IDs back to labels\n",
    ")"
   ]
  },
  {
   "cell_type": "code",
   "execution_count": 126,
   "id": "5e2479a8-14a2-47a5-9f0a-93169be4e03f",
   "metadata": {},
   "outputs": [
    {
     "name": "stderr",
     "output_type": "stream",
     "text": [
      "C:\\Users\\ASUS\\OneDrive\\Documents\\mic_pretest\\newenv\\Lib\\site-packages\\transformers\\training_args.py:1594: FutureWarning: `evaluation_strategy` is deprecated and will be removed in version 4.46 of 🤗 Transformers. Use `eval_strategy` instead\n",
      "  warnings.warn(\n",
      "C:\\Users\\ASUS\\AppData\\Local\\Temp\\ipykernel_33308\\2541690944.py:23: FutureWarning: `tokenizer` is deprecated and will be removed in version 5.0.0 for `Trainer.__init__`. Use `processing_class` instead.\n",
      "  trainer = Trainer(\n"
     ]
    }
   ],
   "source": [
    "from transformers import TrainingArguments, Trainer\n",
    "\n",
    "training_args = TrainingArguments(\n",
    "    output_dir=\"./results\",\n",
    "    evaluation_strategy=\"epoch\",\n",
    "    save_strategy=\"epoch\",\n",
    "    save_total_limit=2,  # Keep only last 2 checkpoints\n",
    "    learning_rate=2e-5,\n",
    "    lr_scheduler_type=\"linear\",  # Linear decay\n",
    "    warmup_steps=500,  # Gradually increase LR at start\n",
    "    per_device_train_batch_size=8,\n",
    "    per_device_eval_batch_size=8,\n",
    "    num_train_epochs=5,\n",
    "    weight_decay=0.01,\n",
    "    logging_dir=\"./logs\",\n",
    "    logging_steps=10,\n",
    "    label_smoothing_factor=0.1,  # Helps generalization\n",
    "    fp16=True,  # Enable mixed precision for faster training\n",
    "    load_best_model_at_end=True,\n",
    "    metric_for_best_model=\"eval_loss\"\n",
    ")\n",
    "\n",
    "trainer = Trainer(\n",
    "    model=model,\n",
    "    args=training_args,\n",
    "    train_dataset=tokenized_dataset[\"train\"],\n",
    "    eval_dataset=tokenized_dataset[\"valid\"],\n",
    "    tokenizer=tokenizer\n",
    ")"
   ]
  },
  {
   "cell_type": "code",
   "execution_count": 127,
   "id": "d4f48a1a-0b7e-41ec-826f-99263ebee5c3",
   "metadata": {},
   "outputs": [
    {
     "data": {
      "text/html": [
       "\n",
       "    <div>\n",
       "      \n",
       "      <progress value='1130' max='1130' style='width:300px; height:20px; vertical-align: middle;'></progress>\n",
       "      [1130/1130 45:42, Epoch 5/5]\n",
       "    </div>\n",
       "    <table border=\"1\" class=\"dataframe\">\n",
       "  <thead>\n",
       " <tr style=\"text-align: left;\">\n",
       "      <th>Epoch</th>\n",
       "      <th>Training Loss</th>\n",
       "      <th>Validation Loss</th>\n",
       "    </tr>\n",
       "  </thead>\n",
       "  <tbody>\n",
       "    <tr>\n",
       "      <td>1</td>\n",
       "      <td>0.635800</td>\n",
       "      <td>0.573016</td>\n",
       "    </tr>\n",
       "    <tr>\n",
       "      <td>2</td>\n",
       "      <td>0.545600</td>\n",
       "      <td>0.541025</td>\n",
       "    </tr>\n",
       "    <tr>\n",
       "      <td>3</td>\n",
       "      <td>0.529200</td>\n",
       "      <td>0.535924</td>\n",
       "    </tr>\n",
       "    <tr>\n",
       "      <td>4</td>\n",
       "      <td>0.538000</td>\n",
       "      <td>0.536112</td>\n",
       "    </tr>\n",
       "    <tr>\n",
       "      <td>5</td>\n",
       "      <td>0.520900</td>\n",
       "      <td>0.535974</td>\n",
       "    </tr>\n",
       "  </tbody>\n",
       "</table><p>"
      ],
      "text/plain": [
       "<IPython.core.display.HTML object>"
      ]
     },
     "metadata": {},
     "output_type": "display_data"
    },
    {
     "data": {
      "text/plain": [
       "TrainOutput(global_step=1130, training_loss=0.6223127846169261, metrics={'train_runtime': 2750.5216, 'train_samples_per_second': 3.274, 'train_steps_per_second': 0.411, 'total_flos': 588270915006720.0, 'train_loss': 0.6223127846169261, 'epoch': 5.0})"
      ]
     },
     "execution_count": 127,
     "metadata": {},
     "output_type": "execute_result"
    }
   ],
   "source": [
    "trainer.train()"
   ]
  },
  {
   "cell_type": "code",
   "execution_count": 128,
   "id": "341e6588-3652-4c77-a641-81b5c08146e1",
   "metadata": {},
   "outputs": [
    {
     "data": {
      "text/html": [
       "\n",
       "    <div>\n",
       "      \n",
       "      <progress value='221' max='221' style='width:300px; height:20px; vertical-align: middle;'></progress>\n",
       "      [221/221 02:03]\n",
       "    </div>\n",
       "    "
      ],
      "text/plain": [
       "<IPython.core.display.HTML object>"
      ]
     },
     "metadata": {},
     "output_type": "display_data"
    },
    {
     "name": "stdout",
     "output_type": "stream",
     "text": [
      "{'eval_loss': 0.53592449426651, 'eval_runtime': 124.1812, 'eval_samples_per_second': 14.197, 'eval_steps_per_second': 1.78, 'epoch': 5.0}\n"
     ]
    }
   ],
   "source": [
    "metrics = trainer.evaluate()\n",
    "print(metrics)"
   ]
  },
  {
   "cell_type": "code",
   "execution_count": 129,
   "id": "521a5ae0-5215-479f-b676-04285375ede3",
   "metadata": {},
   "outputs": [
    {
     "data": {
      "text/plain": [
       "('mic_ner_model_01\\\\tokenizer_config.json',\n",
       " 'mic_ner_model_01\\\\special_tokens_map.json',\n",
       " 'mic_ner_model_01\\\\vocab.json',\n",
       " 'mic_ner_model_01\\\\merges.txt',\n",
       " 'mic_ner_model_01\\\\added_tokens.json',\n",
       " 'mic_ner_model_01\\\\tokenizer.json')"
      ]
     },
     "execution_count": 129,
     "metadata": {},
     "output_type": "execute_result"
    }
   ],
   "source": [
    "model.save_pretrained(\"mic_ner_model_01\")\n",
    "tokenizer.save_pretrained(\"mic_ner_model_01\")"
   ]
  },
  {
   "cell_type": "code",
   "execution_count": 130,
   "id": "cf9b70a8-073f-4ba4-84b7-47214deb74f9",
   "metadata": {},
   "outputs": [
    {
     "data": {
      "text/plain": [
       "2"
      ]
     },
     "execution_count": 130,
     "metadata": {},
     "output_type": "execute_result"
    }
   ],
   "source": [
    "tokenizer = AutoTokenizer.from_pretrained(\"mic_ner_model_01\")\n",
    "tokenizer.add_special_tokens({\"bos_token\": \"<s>\", \"eos_token\": \"</s>\"})\n"
   ]
  },
  {
   "cell_type": "code",
   "execution_count": null,
   "id": "eea303b9-3876-452b-976c-9b74f88bb8de",
   "metadata": {},
   "outputs": [],
   "source": []
  }
 ],
 "metadata": {
  "kernelspec": {
   "display_name": "Python (newenv)",
   "language": "python",
   "name": "newenv"
  },
  "language_info": {
   "codemirror_mode": {
    "name": "ipython",
    "version": 3
   },
   "file_extension": ".py",
   "mimetype": "text/x-python",
   "name": "python",
   "nbconvert_exporter": "python",
   "pygments_lexer": "ipython3",
   "version": "3.12.9"
  }
 },
 "nbformat": 4,
 "nbformat_minor": 5
}
